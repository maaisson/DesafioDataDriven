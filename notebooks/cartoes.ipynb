{
 "cells": [
  {
   "cell_type": "code",
   "execution_count": null,
   "id": "9df21d8b",
   "metadata": {},
   "outputs": [],
   "source": [
    "import pandas as pd\n",
    "import numpy as np\n",
    "import matplotlib.pyplot as plt\n",
    "\n",
    "data = pd.read_csv('/app/arquivos/campeonato-brasileiro-cartoes.csv')\n",
    "\n",
    "data.dropna(subset=['posicao'], inplace=True)\n",
    "data.dropna(subset=['num_camisa'], inplace=True)\n",
    "\n",
    "data.reset_index(drop=True, inplace=True)\n",
    "\n",
    "data.to_csv('/app/arquivos/campeonato-brasileiro-cartoes-limpo.csv', index=False)\n"
   ]
  },
  {
   "cell_type": "code",
   "execution_count": null,
   "id": "5a72508f",
   "metadata": {},
   "outputs": [],
   "source": [
    "import pandas as pd\n",
    "import matplotlib.pyplot as plt\n",
    "\n",
    "cartoes_tipo_clube = data.groupby(['clube', 'cartao']).size().unstack(fill_value=0)\n",
    "cartoes_tipo_clube.sort_values(by='Amarelo', ascending=False, inplace=True)\n",
    "\n",
    "cartoes_tipo_clube.sort_values(by='Amarelo', ascending=False, inplace=True)  # ordena por amarelos\n",
    "\n",
    "ax = cartoes_tipo_clube.plot(kind='bar', stacked=False, figsize=(16,6), color=['gold', 'red'])\n",
    "\n",
    "plt.title('Quantidade de Cartões por Clube (Amarelo e Vermelho)')\n",
    "plt.xlabel('Clube')\n",
    "plt.ylabel('Quantidade de Cartões')\n",
    "plt.xticks(rotation=45, ha='right')\n",
    "plt.grid(axis='y', linestyle='--', alpha=0.5)\n",
    "plt.tight_layout()\n",
    "\n",
    "for cont, patch_set in enumerate(ax.containers):\n",
    "    ax.bar_label(patch_set, label_type='edge', padding=3, fontsize=8, color='black', weight='bold', rotation=0,)\n",
    "\n",
    "plt.show()\n"
   ]
  },
  {
   "cell_type": "code",
   "execution_count": null,
   "id": "d3c3e93b",
   "metadata": {},
   "outputs": [],
   "source": [
    "import matplotlib.pyplot as plt\n",
    "\n",
    "cartoes_tipo_jogador = data.groupby(['atleta', 'cartao']).size().unstack(fill_value=0)\n",
    "\n",
    "top20_amarelos = cartoes_tipo_jogador.sort_values(by='Amarelo', ascending=False).head(20)\n",
    "\n",
    "ax = top20_amarelos.plot(kind='bar', stacked=False, figsize=(16, 6), color=['gold', 'red'])\n",
    "\n",
    "plt.title('Top 20 Jogadores com Mais Cartões Amarelos (e Vermelhos)')\n",
    "plt.xlabel('Atleta')\n",
    "plt.ylabel('Quantidade de Cartões')\n",
    "plt.xticks(rotation=45, ha='right')\n",
    "plt.grid(axis='y', linestyle='--', alpha=0.5)\n",
    "plt.tight_layout()\n",
    "\n",
    "for cont, patch_set in enumerate(ax.containers):\n",
    "    ax.bar_label(patch_set, label_type='edge', padding=3, fontsize=8)\n",
    "\n",
    "plt.show()\n",
    "\n",
    "\n"
   ]
  },
  {
   "cell_type": "code",
   "execution_count": null,
   "id": "db984bc0",
   "metadata": {},
   "outputs": [],
   "source": [
    "import matplotlib.pyplot as plt\n",
    "\n",
    "cartoes_por_posicao = data.groupby(['posicao', 'cartao']).size().unstack(fill_value=0)\n",
    "\n",
    "cartoes_por_posicao.sort_values(by='Amarelo', ascending=False, inplace=True)\n",
    "\n",
    "ax = cartoes_por_posicao.plot(kind='bar', stacked=False, figsize=(16, 6), color=['gold', 'red'])\n",
    "\n",
    "plt.title('Quantidade de Cartões por Posição (Amarelo e Vermelho)')\n",
    "plt.xlabel('Posição')\n",
    "plt.ylabel('Quantidade de Cartões')\n",
    "plt.xticks(rotation=45, ha='right')\n",
    "plt.grid(axis='y', linestyle='--', alpha=0.5)\n",
    "plt.tight_layout()\n",
    "\n",
    "for cont, patch_set in enumerate(ax.containers):\n",
    "    ax.bar_label(patch_set, label_type='edge', padding=3, fontsize=8)\n",
    "    \n",
    "plt.show()"
   ]
  }
 ],
 "metadata": {
  "kernelspec": {
   "display_name": "Python 3",
   "language": "python",
   "name": "python3"
  },
  "language_info": {
   "codemirror_mode": {
    "name": "ipython",
    "version": 3
   },
   "file_extension": ".py",
   "mimetype": "text/x-python",
   "name": "python",
   "nbconvert_exporter": "python",
   "pygments_lexer": "ipython3",
   "version": "3.12.10"
  }
 },
 "nbformat": 4,
 "nbformat_minor": 5
}
